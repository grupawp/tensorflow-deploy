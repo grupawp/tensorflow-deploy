{
 "cells": [
  {
   "cell_type": "markdown",
   "metadata": {},
   "source": [
    "# TensorFlow Deploy - TFHub "
   ]
  },
  {
   "cell_type": "markdown",
   "metadata": {},
   "source": [
    "Storing TensorFlow modules with `tfd` helps solve two problems. First of all, it allows to store and archive our own modules in a safe location, with no need of publishing them anywhere. Second of all, it allows to use internal modules within external company resources, once we clone world modules of our interest.\n",
    "\n",
    "We will show you here how modules embedded in [tfhub.dev](tfhub.dev) can be moved to `tfd`. Next, we will build a model using the module."
   ]
  },
  {
   "cell_type": "code",
   "execution_count": null,
   "metadata": {},
   "outputs": [],
   "source": [
    "import tensorflow as tf\n",
    "import tensorflow_deploy_utils as tfd\n",
    "import tensorflow_hub as tfh\n",
    "from helpers import grpc_text_client"
   ]
  },
  {
   "cell_type": "code",
   "execution_count": null,
   "metadata": {},
   "outputs": [],
   "source": [
    "tf.__version__, tfd.__version__, tfh.__version__"
   ]
  },
  {
   "cell_type": "markdown",
   "metadata": {},
   "source": [
    "Let's download a module from [tfhub.dev](tfhub.dev)."
   ]
  },
  {
   "cell_type": "code",
   "execution_count": null,
   "metadata": {},
   "outputs": [],
   "source": [
    "# It may take a while for the first time, because module weights almost 200MB\n",
    "tfhub_module = tfh.load(\"https://tfhub.dev/google/nnlm-en-dim50/2\")"
   ]
  },
  {
   "cell_type": "markdown",
   "metadata": {},
   "source": [
    "Let's see if the module works properly"
   ]
  },
  {
   "cell_type": "code",
   "execution_count": null,
   "metadata": {},
   "outputs": [],
   "source": [
    "embed1 = tfhub_module([\"this model is quite heavy\"])\n",
    "embed1"
   ]
  },
  {
   "cell_type": "markdown",
   "metadata": {},
   "source": [
    "Now we will save the module so that we can send it to our `tfd`"
   ]
  },
  {
   "cell_type": "code",
   "execution_count": null,
   "metadata": {},
   "outputs": [],
   "source": [
    "EXPORT_PATH = \"/tmp/tfhub_module/\"\n",
    "tf.saved_model.save(tfhub_module, EXPORT_PATH)"
   ]
  },
  {
   "cell_type": "markdown",
   "metadata": {},
   "source": [
    "In order to be able to send our module to local `tfd` repository, we need to add README.md file. Therefore, we will create a cursor that will provide us with such a possibility."
   ]
  },
  {
   "cell_type": "code",
   "execution_count": null,
   "metadata": {},
   "outputs": [],
   "source": [
    "tfd_cursor = tfd.TFD(team=\"google\", project=\"textembedding\", name=\"nnlmendim50\", host=\"tfd\")"
   ]
  },
  {
   "cell_type": "code",
   "execution_count": null,
   "metadata": {},
   "outputs": [],
   "source": [
    "tfd_cursor.generate_module_readme(dst_path=EXPORT_PATH, \n",
    "                                  description=\"Module copy from https://tfhub.dev/google/nnlm-en-dim50/2\")"
   ]
  },
  {
   "cell_type": "code",
   "execution_count": null,
   "metadata": {},
   "outputs": [],
   "source": [
    "tfd_cursor.upload_module(EXPORT_PATH)"
   ]
  },
  {
   "cell_type": "markdown",
   "metadata": {},
   "source": [
    "Ready. The module we have chosen is now in our local `tfd` repository. Let's double check if it really is there. "
   ]
  },
  {
   "cell_type": "code",
   "execution_count": null,
   "metadata": {},
   "outputs": [],
   "source": [
    "tfd_cursor.list_modules()"
   ]
  },
  {
   "cell_type": "markdown",
   "metadata": {},
   "source": [
    "Perfect, it seems that everything is working propely. Let's now build a model that will be using our module. "
   ]
  },
  {
   "cell_type": "markdown",
   "metadata": {},
   "source": [
    "## Model with our own module"
   ]
  },
  {
   "cell_type": "code",
   "execution_count": null,
   "metadata": {},
   "outputs": [],
   "source": [
    "class MyModel(tf.keras.Model):\n",
    "    \n",
    "    def __init__(self, module_url):\n",
    "        super(MyModel, self).__init__()\n",
    "        self.module = tfh.load(module_url)\n",
    "    \n",
    "    @tf.function(input_signature=[tf.TensorSpec(shape=None, dtype=tf.dtypes.string, name=\"x\")])\n",
    "    def call(self, x):\n",
    "        return self.module(x)\n",
    "    \n",
    "    @tf.function(input_signature=[tf.TensorSpec(shape=None, dtype=tf.dtypes.string, name=\"x\")])\n",
    "    def serve(self, x):\n",
    "        return self.call(x)"
   ]
  },
  {
   "cell_type": "code",
   "execution_count": null,
   "metadata": {},
   "outputs": [],
   "source": [
    "my_model = MyModel(\"http://tfd:9500/v1/modules/google/textembedding/names/nnlmendim50/versions/1\")"
   ]
  },
  {
   "cell_type": "markdown",
   "metadata": {},
   "source": [
    "We have built a model that includes a module to embed the text. Let's test if it works."
   ]
  },
  {
   "cell_type": "code",
   "execution_count": null,
   "metadata": {},
   "outputs": [],
   "source": [
    "embed2 = my_model([\"this model is quite heavy\"])\n",
    "embed2"
   ]
  },
  {
   "cell_type": "markdown",
   "metadata": {},
   "source": [
    "It seems to be working. But is it working correctly? Let's compare the results of module embedding `embed1` with model's embedding `embed2`. If everything is OK, the results should be identical."
   ]
  },
  {
   "cell_type": "code",
   "execution_count": null,
   "metadata": {},
   "outputs": [],
   "source": [
    "embed1 == embed2"
   ]
  },
  {
   "cell_type": "markdown",
   "metadata": {},
   "source": [
    "As expected, both vectors are identical. Let's implement our new model into a respective `tfs` instance and see how it works. "
   ]
  },
  {
   "cell_type": "code",
   "execution_count": null,
   "metadata": {},
   "outputs": [],
   "source": [
    "NEW_EXPORT_PATH = \"/tmp/my_model/\"\n",
    "tf.saved_model.save(my_model, NEW_EXPORT_PATH)"
   ]
  },
  {
   "cell_type": "code",
   "execution_count": null,
   "metadata": {},
   "outputs": [],
   "source": [
    "tfd_cursor = tfd.TFD(team=\"demo\", project=\"hub\", name=\"nnlmendim50\", host=\"tfd\")"
   ]
  },
  {
   "cell_type": "code",
   "execution_count": null,
   "metadata": {},
   "outputs": [],
   "source": [
    "tfd_cursor.generate_model_readme(dst_path=NEW_EXPORT_PATH, \n",
    "                                 description=\"Model created on top of tfhub.dev module: https://tfhub.dev/google/nnlm-en-dim50/2\")"
   ]
  },
  {
   "cell_type": "code",
   "execution_count": null,
   "metadata": {
    "scrolled": false
   },
   "outputs": [],
   "source": [
    "response = tfd_cursor.deploy_model(src_path=NEW_EXPORT_PATH)\n",
    "print(response)"
   ]
  },
  {
   "cell_type": "markdown",
   "metadata": {},
   "source": [
    "Great, we have got a new model in our production. Let's test it now."
   ]
  },
  {
   "cell_type": "code",
   "execution_count": null,
   "metadata": {
    "scrolled": true
   },
   "outputs": [],
   "source": [
    "response = grpc_text_client(dataset=[[\"this model is quite heavy\"]], host=\"tfs-demo-hub\", port=8500, \n",
    "                            model_name=\"nnlmendim50\", model_label=\"canary\")"
   ]
  },
  {
   "cell_type": "code",
   "execution_count": null,
   "metadata": {},
   "outputs": [],
   "source": [
    "response"
   ]
  },
  {
   "cell_type": "markdown",
   "metadata": {},
   "source": [
    "Let's see again if the response from `tfs` is the same as in the initial module. "
   ]
  },
  {
   "cell_type": "code",
   "execution_count": null,
   "metadata": {},
   "outputs": [],
   "source": [
    "embed3 = response[0].outputs[\"output_1\"].float_val\n",
    "embed3"
   ]
  },
  {
   "cell_type": "code",
   "execution_count": null,
   "metadata": {},
   "outputs": [],
   "source": [
    "embed1 == embed3"
   ]
  },
  {
   "cell_type": "markdown",
   "metadata": {},
   "source": [
    "Huray! Everything is perfect :) We have built a model based on tfhub.dev. Next, we implemented and tested the new model in an almost production environment. \n",
    "\n",
    "This is all we prepared in this notebook. If you have not done so already, we encourage you to get familiar with the rest of our notebooks. At the same time, you are very welcome to create your own notebooks describing some new interesting ways of using **TensorFlow Deploy** for your own cases.\n",
    "\n",
    "Enjoy :)"
   ]
  }
 ],
 "metadata": {
  "kernelspec": {
   "display_name": "Python 3",
   "language": "python",
   "name": "python3"
  },
  "language_info": {
   "codemirror_mode": {
    "name": "ipython",
    "version": 3
   },
   "file_extension": ".py",
   "mimetype": "text/x-python",
   "name": "python",
   "nbconvert_exporter": "python",
   "pygments_lexer": "ipython3",
   "version": "3.8.5"
  }
 },
 "nbformat": 4,
 "nbformat_minor": 2
}
