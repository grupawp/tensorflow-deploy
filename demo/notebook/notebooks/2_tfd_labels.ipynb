{
 "cells": [
  {
   "cell_type": "markdown",
   "metadata": {},
   "source": [
    "# TensorFlow Deploy - Labels "
   ]
  },
  {
   "cell_type": "markdown",
   "metadata": {},
   "source": [
    "Welcome to the second `tfd` training notebook. If you are here, you have most probably got familiar with the first notebook of the series.\n",
    "\n",
    "This time we would like to show you real power and benefits of using `tfd` for either your own or company projects. A/B tests are crucial part of many ML projects. We will show you how to run such tests easily by using `tfd`."
   ]
  },
  {
   "cell_type": "code",
   "execution_count": null,
   "metadata": {},
   "outputs": [],
   "source": [
    "from helpers import grpc_client, show, show_label, return_mistakes\n",
    "import tensorflow as tf\n",
    "import tensorflow_deploy_utils as tfd"
   ]
  },
  {
   "cell_type": "code",
   "execution_count": null,
   "metadata": {},
   "outputs": [],
   "source": [
    "tf.__version__, tfd.__version__"
   ]
  },
  {
   "cell_type": "markdown",
   "metadata": {},
   "source": [
    "## Przygotowanie danych"
   ]
  },
  {
   "cell_type": "code",
   "execution_count": null,
   "metadata": {},
   "outputs": [],
   "source": [
    "(train_data, train_labels), (test_data, test_labels) = tf.keras.datasets.mnist.load_data()\n",
    "\n",
    "train_data = train_data / 255.0\n",
    "test_data = test_data / 255.0\n",
    "train_labels = tf.keras.utils.to_categorical(train_labels)\n",
    "test_labels = tf.keras.utils.to_categorical(test_labels)"
   ]
  },
  {
   "cell_type": "markdown",
   "metadata": {},
   "source": [
    "## Model 1 - podstawowy"
   ]
  },
  {
   "cell_type": "markdown",
   "metadata": {},
   "source": [
    "This is a repetition of what can be found in the introductory notebook, so you already know this part."
   ]
  },
  {
   "cell_type": "code",
   "execution_count": null,
   "metadata": {},
   "outputs": [],
   "source": [
    "model = tf.keras.models.Sequential()\n",
    "model.add(tf.keras.layers.Dense(units=5, input_shape=(28, 28)))\n",
    "model.add(tf.keras.layers.Flatten())\n",
    "model.add(tf.keras.layers.Dense(10, activation=\"softmax\"))\n",
    "\n",
    "model.compile(optimizer=\"rmsprop\", loss=\"categorical_crossentropy\", metrics=[\"accuracy\"])\n",
    "model.summary()\n",
    "\n",
    "_ = model.fit(x=train_data, y=train_labels, validation_split=0.2, epochs=1, batch_size=64)\n",
    "\n",
    "loss, accuracy = model.evaluate(x=test_data, y=test_labels, batch_size=64, verbose=0)\n",
    "print(\"Test accuracy: {a}\".format(a=accuracy))\n",
    "\n",
    "EXPORT_PATH = \"/tmp/models/mnist/1\"\n",
    "tf.saved_model.save(model, EXPORT_PATH)\n",
    "\n",
    "TEAM = \"demo\"\n",
    "PROJECT = \"labels\"\n",
    "NAME = \"mnist\"\n",
    "LABEL = \"basic\"  # opcja\n",
    "\n",
    "tfd_cursor = tfd.TFD(team=TEAM, project=PROJECT, name=NAME, label=LABEL, host=\"tfd\")\n",
    "\n",
    "DESCRIPTION = \"\"\"\n",
    "This is a smiple model version solving MNIST issue. A simple two-layer neural network with \n",
    "a few neurons has been applied to solve it.  \n",
    "\"\"\"\n",
    "\n",
    "tfd_cursor.generate_model_readme(dst_path=EXPORT_PATH, description=DESCRIPTION, \n",
    "                                 metrics={\"accuracy\": accuracy, \"loss\": loss})\n",
    "\n",
    "response = tfd_cursor.deploy_model(EXPORT_PATH)\n",
    "print(response)"
   ]
  },
  {
   "cell_type": "markdown",
   "metadata": {},
   "source": [
    "Let's see if the model really reached 'tfd' and is available"
   ]
  },
  {
   "cell_type": "code",
   "execution_count": null,
   "metadata": {},
   "outputs": [],
   "source": [
    "tfd_cursor.list_models()"
   ]
  },
  {
   "cell_type": "markdown",
   "metadata": {},
   "source": [
    "We can see that the status of our `basic` model for `labels` project is set to `ready`\n",
    "\n",
    "**Attention**: we changed the project's name here - i.e. our model reached other `tfs` instance than it was described in our introductory notebook."
   ]
  },
  {
   "cell_type": "markdown",
   "metadata": {},
   "source": [
    "We are aware that our first model is very simple and its quality is far from perfect (accuracy tests gave us results of 87-90% which is quite poor). Let's have a look at a few examples where the model is not correct. \n",
    "\n",
    "In order to do that, we will ask `tfs` for our test data, and next we will compare `basic` model decision with real labels (`true_labels`)."
   ]
  },
  {
   "cell_type": "code",
   "execution_count": null,
   "metadata": {},
   "outputs": [],
   "source": [
    "predictions = grpc_client(dataset=test_data, host=f\"tfs-{TEAM}-{PROJECT}\", port=8500, \n",
    "                          model_name=NAME, model_label=\"basic\")\n",
    "predictions = [p.outputs[\"dense_1\"].float_val for p in predictions]"
   ]
  },
  {
   "cell_type": "code",
   "execution_count": null,
   "metadata": {},
   "outputs": [],
   "source": [
    "mistakes = return_mistakes(test_data, test_labels, predictions, mistakes_number=5)"
   ]
  },
  {
   "cell_type": "code",
   "execution_count": null,
   "metadata": {},
   "outputs": [],
   "source": [
    "for i, (img, true_label, predicted_label) in enumerate(mistakes):\n",
    "    show(array=img, title=f\"Mistake #{i + 1}. True label: {true_label};   Prediction: {predicted_label}\")"
   ]
  },
  {
   "cell_type": "markdown",
   "metadata": {},
   "source": [
    "The results above are not satisfactory. It may be true that some of the examples are difficult for interpretation even for a human being, but some of them are obvious mistakes. Thus we will try to improve our model and get rid of these obvious mistakes."
   ]
  },
  {
   "cell_type": "markdown",
   "metadata": {},
   "source": [
    "## Model 2 - extended"
   ]
  },
  {
   "cell_type": "markdown",
   "metadata": {},
   "source": [
    "As you have just seen, this model is not a best solution for production, as it can make mistakes in even very clear cases. Let's see how to quickly change our model into a more sufficient one. In the following cell we will build a neuron web with a more advanced structure. Then we will implement it again labelled as `extended`.\n",
    "\n",
    "Once implemented, we will re-test predictions for the previous mistakes by asking `tfs`."
   ]
  },
  {
   "cell_type": "code",
   "execution_count": null,
   "metadata": {},
   "outputs": [],
   "source": [
    "model = tf.keras.models.Sequential()\n",
    "model.add(tf.keras.layers.Dense(units=32, input_shape=(28, 28), activation=\"relu\", name=\"dense\"))\n",
    "model.add(tf.keras.layers.Flatten())\n",
    "model.add(tf.keras.layers.Dense(64, activation=\"relu\"))\n",
    "model.add(tf.keras.layers.Dense(32, activation=\"relu\"))\n",
    "model.add(tf.keras.layers.Dense(10, activation=\"softmax\"))\n",
    "\n",
    "model.compile(optimizer=\"rmsprop\", loss=\"categorical_crossentropy\", metrics=[\"accuracy\"])\n",
    "model.summary()\n",
    "\n",
    "history = model.fit(x=train_data, y=train_labels, validation_split=0.2, epochs=5, batch_size=64)\n",
    "loss, accuracy = model.evaluate(x=test_data, y=test_labels, batch_size=64, verbose=0)\n",
    "print(f\"\\nTest accuracy: {accuracy}\\n\")\n",
    "\n",
    "EXPORT_PATH = \"/tmp/models/mnist/2\"\n",
    "tf.saved_model.save(model, EXPORT_PATH)\n",
    "\n",
    "DESCRIPTION = \"\"\"\n",
    "Advanced model for the MNIST issue. For its solution, I applied a simple MLP with 64 neurons within the first hidden layer, \n",
    "32 within the second hidden layer and 16 within the third one.\n",
    "\"\"\"\n",
    "\n",
    "tfd_cursor.generate_model_readme(dst_path=EXPORT_PATH, description=DESCRIPTION, \n",
    "                                 metrics={\"accuracy\": accuracy, \"loss\": loss})\n",
    "response = tfd_cursor.deploy_model(EXPORT_PATH, label=\"extended\")\n",
    "print(response)"
   ]
  },
  {
   "cell_type": "markdown",
   "metadata": {},
   "source": [
    "After running the accuracy test, we can see that our new model is incomparably better that the previous one. Let's see how the new model will evaluate mistakes of the previous one."
   ]
  },
  {
   "cell_type": "code",
   "execution_count": null,
   "metadata": {},
   "outputs": [],
   "source": [
    "new_predictions = grpc_client(dataset=[img for img, _, _ in mistakes], host=f\"tfs-{TEAM}-{PROJECT}\", port=8500, \n",
    "                              model_name=NAME, model_label=\"extended\")\n",
    "new_predictions = [show_label(p.outputs[\"dense_4\"].float_val) for p in new_predictions]\n",
    "new_mistakes = [(img, true_label, new_prediction) for ((img, true_label, _), new_prediction) in zip(mistakes, new_predictions)]"
   ]
  },
  {
   "cell_type": "code",
   "execution_count": null,
   "metadata": {},
   "outputs": [],
   "source": [
    "for i, (img, true_label, predicted_label) in enumerate(new_mistakes):\n",
    "    show(array=img, title=f\"Mistake #{i + 1}. True label: {true_label};   Prediction: {predicted_label}\")"
   ]
  },
  {
   "cell_type": "markdown",
   "metadata": {},
   "source": [
    "## Summary"
   ]
  },
  {
   "cell_type": "markdown",
   "metadata": {},
   "source": [
    "Advanced model version allowed to eliminate almost each mistake that occured in the basic model. Only the first example with very unclear number 5 was acknowledged as 6, but I would myself (as a human being) go that way too ;)\n",
    "\n",
    "This notebook gave us an overview of an unique functionality delivered by `tfs`, which is model labelling. Labels are extremely useful, even when we want to run A/B tests. `Tfd`, however, allowed us to make use of that advanced functionality in a very simple way by assigning another label. \n",
    "\n",
    "You are very welcome to read our next notebook if you are interested in other **TensorFlow Deploy** functionalities. "
   ]
  }
 ],
 "metadata": {
  "kernelspec": {
   "display_name": "Python 3",
   "language": "python",
   "name": "python3"
  },
  "language_info": {
   "codemirror_mode": {
    "name": "ipython",
    "version": 3
   },
   "file_extension": ".py",
   "mimetype": "text/x-python",
   "name": "python",
   "nbconvert_exporter": "python",
   "pygments_lexer": "ipython3",
   "version": "3.8.5"
  }
 },
 "nbformat": 4,
 "nbformat_minor": 4
}
